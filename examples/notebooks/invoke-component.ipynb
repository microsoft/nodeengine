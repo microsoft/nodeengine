{
 "cells": [
  {
   "cell_type": "markdown",
   "metadata": {},
   "source": [
    "# Invoke Component\n",
    "This notebook provides a sample for how to invoke a component in a flow and can be used for testing purposes.\n",
    "\n",
    "Prequisites:\n",
    "- Install and start the node-engine-service based on instructions in [../../README.md](../../README.md)"
   ]
  },
  {
   "cell_type": "code",
   "execution_count": 8,
   "metadata": {},
   "outputs": [
    {
     "data": {
      "text/plain": [
       "{'key': 'sample',\n",
       " 'session_id': '123456',\n",
       " 'flow': [{'key': 'start', 'name': 'IntentExtraction', 'config': {}}],\n",
       " 'registry': None,\n",
       " 'context': {'messages': [{'sender': 'user', 'content': 'Hello'}],\n",
       "  'intent': 'greeting'},\n",
       " 'status': {'current_component': None, 'error': None, 'log': [], 'trace': []}}"
      ]
     },
     "metadata": {},
     "output_type": "display_data"
    }
   ],
   "source": [
    "from node_engine.models.flow_component import FlowComponent\n",
    "from node_engine.models.flow_definition import FlowDefinition\n",
    "\n",
    "flow_definition = FlowDefinition(\n",
    "    key=\"sample\",\n",
    "    session_id=\"123456\",\n",
    "    context={\n",
    "        \"messages\": [\n",
    "            {\n",
    "                \"sender\": \"user\",\n",
    "                \"content\": \"Hello\",\n",
    "            }\n",
    "        ],\n",
    "        \"intent\": \"greeting\",\n",
    "    },\n",
    "    flow=[\n",
    "        FlowComponent(\n",
    "            key=\"start\",\n",
    "            name=\"IntentExtraction\",\n",
    "        ),\n",
    "    ],\n",
    ")\n",
    "\n",
    "display(flow_definition.model_dump())"
   ]
  },
  {
   "cell_type": "code",
   "execution_count": 9,
   "metadata": {},
   "outputs": [
    {
     "data": {
      "text/plain": [
       "{'next': 'exit',\n",
       " 'flow_definition': {'key': 'sample',\n",
       "  'session_id': '123456',\n",
       "  'flow': [{'key': 'start', 'name': 'IntentExtraction', 'config': {}}],\n",
       "  'registry': None,\n",
       "  'context': {'messages': [{'sender': 'user', 'content': 'Hello'}],\n",
       "   'intent': \"Please let me know which specific type of plan you're interested in, such as phone plans, internet plans, or subscription plans for a service, and I'll be happy to provide you with general information about those plans.\"},\n",
       "  'status': {'current_component': {'key': 'start',\n",
       "    'name': 'IntentExtraction',\n",
       "    'config': {}},\n",
       "   'error': None,\n",
       "   'log': [],\n",
       "   'trace': [{'elapsed_time_ms': 1463.992,\n",
       "     'component': {'key': 'start', 'name': 'IntentExtraction'},\n",
       "     'config': {},\n",
       "     'context': {'messages': [{'sender': 'user', 'content': 'Hello'}],\n",
       "      'intent': \"Please let me know which specific type of plan you're interested in, such as phone plans, internet plans, or subscription plans for a service, and I'll be happy to provide you with general information about those plans.\"}}]}}}"
      ]
     },
     "metadata": {},
     "output_type": "display_data"
    }
   ],
   "source": [
    "from node_engine.client import NodeEngineClient\n",
    "\n",
    "result = await NodeEngineClient().invoke_component(flow_definition=flow_definition, component_key=\"start\")\n",
    "\n",
    "display(result.model_dump())"
   ]
  }
 ],
 "metadata": {
  "kernelspec": {
   "display_name": "venv",
   "language": "python",
   "name": "python3"
  },
  "language_info": {
   "codemirror_mode": {
    "name": "ipython",
    "version": 3
   },
   "file_extension": ".py",
   "mimetype": "text/x-python",
   "name": "python",
   "nbconvert_exporter": "python",
   "pygments_lexer": "ipython3",
   "version": "3.11.6"
  },
  "orig_nbformat": 4
 },
 "nbformat": 4,
 "nbformat_minor": 2
}
